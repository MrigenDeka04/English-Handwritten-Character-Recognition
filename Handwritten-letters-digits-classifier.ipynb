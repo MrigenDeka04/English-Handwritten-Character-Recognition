{
 "cells": [
  {
   "cell_type": "markdown",
   "id": "5fec44b2",
   "metadata": {
    "papermill": {
     "duration": 0.004258,
     "end_time": "2025-07-04T11:34:55.516012",
     "exception": false,
     "start_time": "2025-07-04T11:34:55.511754",
     "status": "completed"
    },
    "tags": []
   },
   "source": [
    "# AI Model to Recognize Handwritten English Letters & Numbers"
   ]
  },
  {
   "cell_type": "markdown",
   "id": "371a9786",
   "metadata": {
    "papermill": {
     "duration": 0.003354,
     "end_time": "2025-07-04T11:34:55.523115",
     "exception": false,
     "start_time": "2025-07-04T11:34:55.519761",
     "status": "completed"
    },
    "tags": []
   },
   "source": [
    "## Introduction\n",
    "This dataset contains a diverse collection of **handwritten English characters and digits**, including:\n",
    "- Uppercase letters (A-Z)\n",
    "- Lowercase letters (a-z)\n",
    "- Numerical digits (0-9)\n",
    "\n",
    "It is designed to support research and development in:\n",
    "- Optical Character Recognition (OCR)\n",
    "- Handwriting recognition\n",
    "- Machine Learning\n",
    "\n",
    "\n",
    "## Purpose\n",
    "\n",
    "The dataset is ideal for:\n",
    "\n",
    "- **Training and Evaluating OCR Models**: Recognize handwritten English text accurately.\n",
    "- **Developing Handwriting Recognition Systems**: Useful in processing handwritten forms and documents.\n",
    "- **Benchmarking**: Compare different algorithms and model performances.\n",
    "\n",
    "\n",
    "## Usage\n",
    "\n",
    "- **Machine Learning**: Use for training image classification models.\n",
    "- **Data Augmentation**: Apply transformations to increase dataset diversity and model generalization.\n",
    "- **Feature Extraction**: Identify and analyze patterns in handwritten characters.\n",
    "\n",
    "---\n",
    "\n",
    "> 💡 This dataset provides a comprehensive resource for academic and practical work in handwriting-based AI applications.\n"
   ]
  },
  {
   "cell_type": "markdown",
   "id": "9b28b8e3",
   "metadata": {
    "papermill": {
     "duration": 0.00355,
     "end_time": "2025-07-04T11:34:55.530173",
     "exception": false,
     "start_time": "2025-07-04T11:34:55.526623",
     "status": "completed"
    },
    "tags": []
   },
   "source": [
    "## Import libraries"
   ]
  },
  {
   "cell_type": "code",
   "execution_count": null,
   "id": "6531e2a9",
   "metadata": {
    "papermill": {
     "duration": 16.249538,
     "end_time": "2025-07-04T11:35:11.782940",
     "exception": false,
     "start_time": "2025-07-04T11:34:55.533402",
     "status": "completed"
    },
    "tags": []
   },
   "outputs": [],
   "source": [
    "import pandas as pd\n",
    "import os\n",
    "import warnings\n",
    "warnings.filterwarnings('ignore')\n",
    "import tensorflow as tf\n",
    "from tensorflow.keras import layers,models\n",
    "from tensorflow.keras import regularizers\n",
    "from tensorflow.keras.optimizers import Adam\n",
    "import matplotlib.pyplot as plt\n",
    "import numpy as np\n",
    "\n"
   ]
  },
  {
   "cell_type": "markdown",
   "id": "66b270c3",
   "metadata": {
    "papermill": {
     "duration": 0.0062,
     "end_time": "2025-07-04T11:35:11.795585",
     "exception": false,
     "start_time": "2025-07-04T11:35:11.789385",
     "status": "completed"
    },
    "tags": []
   },
   "source": [
    "## Load the Data"
   ]
  },
  {
   "cell_type": "code",
   "execution_count": null,
   "id": "d590ee16",
   "metadata": {
    "papermill": {
     "duration": 0.352582,
     "end_time": "2025-07-04T11:35:12.154603",
     "exception": false,
     "start_time": "2025-07-04T11:35:11.802021",
     "status": "completed"
    },
    "tags": []
   },
   "outputs": [],
   "source": [
    "\n",
    "path = (\"E:\\JEC Internship\\Dataset\\archive1\\handwritten-english-characters-and-digits\")\n",
    "\n",
    "print(\"Path to dataset files:\", path)"
   ]
  },
  {
   "cell_type": "code",
   "execution_count": null,
   "id": "d6a27121",
   "metadata": {
    "papermill": {
     "duration": 0.014495,
     "end_time": "2025-07-04T11:35:12.172878",
     "exception": false,
     "start_time": "2025-07-04T11:35:12.158383",
     "status": "completed"
    },
    "tags": []
   },
   "outputs": [],
   "source": [
    "import os\n",
    "# Fix the path variable to use a raw string\n",
    "path = r\"E:\\JEC Internship\\Dataset\\archive1\\handwritten-english-characters-and-digits\"\n",
    "print(\"Files in dataset folder:\")\n",
    "print(os.listdir(path))"
   ]
  },
  {
   "cell_type": "code",
   "execution_count": null,
   "id": "736584b4",
   "metadata": {
    "papermill": {
     "duration": 0.008423,
     "end_time": "2025-07-04T11:35:12.184943",
     "exception": false,
     "start_time": "2025-07-04T11:35:12.176520",
     "status": "completed"
    },
    "tags": []
   },
   "outputs": [],
   "source": [
    "train_dir = r\"E:\\JEC Internship\\Dataset\\archive1\\handwritten-english-characters-and-digits\\combined_folder\\train\"\n",
    "test_dir  = r\"E:\\JEC Internship\\Dataset\\archive1\\handwritten-english-characters-and-digits\\combined_folder\\test\"\n",
    "augmented_data = r\"E:\\JEC Internship\\Dataset\\archive1\\augmented_images\""
   ]
  },
  {
   "cell_type": "markdown",
   "id": "fa3fe2f1",
   "metadata": {
    "papermill": {
     "duration": 0.003526,
     "end_time": "2025-07-04T11:35:12.192027",
     "exception": false,
     "start_time": "2025-07-04T11:35:12.188501",
     "status": "completed"
    },
    "tags": []
   },
   "source": [
    "## Data Preprocessing"
   ]
  },
  {
   "cell_type": "code",
   "execution_count": null,
   "id": "58952390",
   "metadata": {
    "papermill": {
     "duration": 3.588841,
     "end_time": "2025-07-04T11:35:15.784569",
     "exception": false,
     "start_time": "2025-07-04T11:35:12.195728",
     "status": "completed"
    },
    "tags": []
   },
   "outputs": [],
   "source": [
    "train_ds=tf.keras.utils.image_dataset_from_directory(\n",
    "    train_dir,\n",
    "    image_size=(64,64),\n",
    "    batch_size=32,\n",
    "    label_mode='categorical'\n",
    ")"
   ]
  },
  {
   "cell_type": "code",
   "execution_count": null,
   "id": "978a1b40",
   "metadata": {
    "papermill": {
     "duration": 5.271435,
     "end_time": "2025-07-04T11:35:21.060075",
     "exception": false,
     "start_time": "2025-07-04T11:35:15.788640",
     "status": "completed"
    },
    "tags": []
   },
   "outputs": [],
   "source": [
    "augmented_ds=tf.keras.utils.image_dataset_from_directory(\n",
    "    augmented_data,\n",
    "    image_size=(64,64),\n",
    "    batch_size=32,\n",
    "    label_mode='categorical'\n",
    ")"
   ]
  },
  {
   "cell_type": "code",
   "execution_count": null,
   "id": "0694fb8e",
   "metadata": {
    "papermill": {
     "duration": 0.196996,
     "end_time": "2025-07-04T11:35:21.261293",
     "exception": false,
     "start_time": "2025-07-04T11:35:21.064297",
     "status": "completed"
    },
    "tags": []
   },
   "outputs": [],
   "source": [
    "test_ds=tf.keras.utils.image_dataset_from_directory(\n",
    "    test_dir,\n",
    "    image_size=(64,64),\n",
    "    batch_size=32,\n",
    "    label_mode='categorical'\n",
    ")"
   ]
  },
  {
   "cell_type": "markdown",
   "id": "537dc82d",
   "metadata": {
    "papermill": {
     "duration": 0.004264,
     "end_time": "2025-07-04T11:35:21.269271",
     "exception": false,
     "start_time": "2025-07-04T11:35:21.265007",
     "status": "completed"
    },
    "tags": []
   },
   "source": [
    "## Visualize the Images"
   ]
  },
  {
   "cell_type": "code",
   "execution_count": null,
   "id": "fb378331",
   "metadata": {
    "papermill": {
     "duration": 1.426041,
     "end_time": "2025-07-04T11:35:22.699011",
     "exception": false,
     "start_time": "2025-07-04T11:35:21.272970",
     "status": "completed"
    },
    "tags": []
   },
   "outputs": [],
   "source": [
    "class_names = train_ds.class_names\n",
    "# print(class_names)\n",
    "\n",
    "# Take 1 batch from the dataset\n",
    "for images, labels in train_ds.take(1):\n",
    "    plt.figure(figsize=(10, 6))\n",
    "    for i in range(25):\n",
    "        ax = plt.subplot(5, 5, i + 1)\n",
    "        plt.imshow(images[i].numpy().astype(\"uint8\"))\n",
    "        label_index = tf.argmax(labels[i]).numpy()\n",
    "        plt.title(class_names[label_index])\n",
    "        plt.axis(\"off\")\n"
   ]
  },
  {
   "cell_type": "markdown",
   "id": "cb72e7e6",
   "metadata": {
    "papermill": {
     "duration": 0.004535,
     "end_time": "2025-07-04T11:35:22.708912",
     "exception": false,
     "start_time": "2025-07-04T11:35:22.704377",
     "status": "completed"
    },
    "tags": []
   },
   "source": [
    " ## Model Building"
   ]
  },
  {
   "cell_type": "code",
   "execution_count": null,
   "id": "4ed7bae7",
   "metadata": {
    "papermill": {
     "duration": 0.913576,
     "end_time": "2025-07-04T11:35:23.627096",
     "exception": false,
     "start_time": "2025-07-04T11:35:22.713520",
     "status": "completed"
    },
    "tags": []
   },
   "outputs": [],
   "source": [
    "# Improved model with less regularization\n",
    "model = models.Sequential([\n",
    "    layers.Rescaling(1./255, input_shape=(64, 64, 3)),\n",
    "    \n",
    "    # Block 1\n",
    "    layers.Conv2D(32, (3, 3), padding='same'),\n",
    "    layers.BatchNormalization(),\n",
    "    layers.Activation('relu'),\n",
    "    layers.MaxPooling2D(),\n",
    "    layers.Dropout(0.1),\n",
    "    \n",
    "    # Block 2\n",
    "    layers.Conv2D(64, (3, 3), padding='same'),\n",
    "    layers.BatchNormalization(),\n",
    "    layers.Activation('relu'),\n",
    "    layers.MaxPooling2D(),\n",
    "    layers.Dropout(0.1),\n",
    "    \n",
    "    # Block 3\n",
    "    layers.Conv2D(128, (3, 3), padding='same'),\n",
    "    layers.BatchNormalization(),\n",
    "    layers.Activation('relu'),\n",
    "    layers.MaxPooling2D(),\n",
    "    layers.Dropout(0.15),\n",
    "    \n",
    "    # Block 4\n",
    "    layers.Conv2D(256, (3, 3), padding='same'),\n",
    "    layers.BatchNormalization(),\n",
    "    layers.Activation('relu'),\n",
    "    layers.MaxPooling2D(),\n",
    "    layers.Dropout(0.15),\n",
    "    \n",
    "    # Dense Layers\n",
    "    layers.Flatten(),\n",
    "    layers.Dense(512, activation='relu'),\n",
    "    layers.BatchNormalization(),\n",
    "    layers.Dropout(0.2),\n",
    "    layers.Dense(256, activation='relu'),\n",
    "    layers.BatchNormalization(),\n",
    "    layers.Dropout(0.2),\n",
    "    layers.Dense(62, activation='softmax')\n",
    "])\n",
    "\n",
    "model.summary()"
   ]
  },
  {
   "cell_type": "code",
   "execution_count": null,
   "id": "b2a01794",
   "metadata": {
    "papermill": {
     "duration": 1599.415012,
     "end_time": "2025-07-04T12:02:03.048125",
     "exception": false,
     "start_time": "2025-07-04T11:35:23.633113",
     "status": "completed"
    },
    "tags": []
   },
   "outputs": [],
   "source": [
    "\n",
    "# Ensure test_ds is defined (run this only if you get NameError)\n",
    "test_ds = tf.keras.utils.image_dataset_from_directory(\n",
    "    test_dir,\n",
    "    image_size=(64,64),\n",
    "    batch_size=32,\n",
    "    label_mode='categorical'\n",
    ")\n",
    "\n",
    "# Compile with lower learning rate\n",
    "model.compile(\n",
    "    optimizer=Adam(learning_rate=0.0001),\n",
    "    loss='categorical_crossentropy',\n",
    "    metrics=['accuracy']\n",
    ")\n",
    "\n",
    "# Training with class weights\n",
    "history=model.fit(\n",
    "    augmented_ds,\n",
    "    validation_data=test_ds,\n",
    "    epochs=50,\n",
    "    # class_weight='balanced',  # Handle class imbalance\n",
    "    callbacks=[\n",
    "        # Early stopping to prevent overfitting\n",
    "        tf.keras.callbacks.EarlyStopping(patience=10, restore_best_weights=True),\n",
    "        # Reduce learning rate on plateau\n",
    "        tf.keras.callbacks.ReduceLROnPlateau(factor=0.5, patience=5, min_lr=1e-7)\n",
    "    ]\n",
    ")"
   ]
  },
  {
   "cell_type": "markdown",
   "id": "655297e8",
   "metadata": {
    "papermill": {
     "duration": 0.818438,
     "end_time": "2025-07-04T12:02:04.790403",
     "exception": false,
     "start_time": "2025-07-04T12:02:03.971965",
     "status": "completed"
    },
    "tags": []
   },
   "source": [
    "## Model Evaluation"
   ]
  },
  {
   "cell_type": "code",
   "execution_count": null,
   "id": "7307195e",
   "metadata": {
    "papermill": {
     "duration": 2.575202,
     "end_time": "2025-07-04T12:02:08.224688",
     "exception": false,
     "start_time": "2025-07-04T12:02:05.649486",
     "status": "completed"
    },
    "tags": []
   },
   "outputs": [],
   "source": [
    "loss, accuracy = model.evaluate(test_ds)\n",
    "print(f\"Validation Accuracy: {accuracy*100:.2f}%\")\n"
   ]
  },
  {
   "cell_type": "markdown",
   "id": "3bcae968",
   "metadata": {
    "papermill": {
     "duration": 0.861285,
     "end_time": "2025-07-04T12:02:09.952640",
     "exception": false,
     "start_time": "2025-07-04T12:02:09.091355",
     "status": "completed"
    },
    "tags": []
   },
   "source": [
    "## Results Visualization"
   ]
  },
  {
   "cell_type": "code",
   "execution_count": null,
   "id": "1ba5d429",
   "metadata": {
    "papermill": {
     "duration": 1.240105,
     "end_time": "2025-07-04T12:02:11.991040",
     "exception": false,
     "start_time": "2025-07-04T12:02:10.750935",
     "status": "completed"
    },
    "tags": []
   },
   "outputs": [],
   "source": [
    "# Accuracy\n",
    "plt.figure(figsize=(8,5))\n",
    "plt.plot(history.history['accuracy'], label='Train Accuracy')\n",
    "plt.plot(history.history['val_accuracy'], label='Val Accuracy')\n",
    "plt.title('Model Accuracy')\n",
    "plt.xlabel('Epochs')\n",
    "plt.ylabel('Accuracy')\n",
    "plt.legend()\n",
    "plt.show()\n",
    "\n",
    "# Loss\n",
    "plt.figure(figsize=(8,5))\n",
    "plt.plot(history.history['loss'], label='Train Loss')\n",
    "plt.plot(history.history['val_loss'], label='Val Loss')\n",
    "plt.title('Model Loss')\n",
    "plt.xlabel('Epochs')\n",
    "plt.ylabel('Loss')\n",
    "plt.legend()\n",
    "plt.show()"
   ]
  },
  {
   "cell_type": "markdown",
   "id": "34c879ec",
   "metadata": {
    "papermill": {
     "duration": 0.808394,
     "end_time": "2025-07-04T12:02:13.652800",
     "exception": false,
     "start_time": "2025-07-04T12:02:12.844406",
     "status": "completed"
    },
    "tags": []
   },
   "source": [
    "## Sample Predictions"
   ]
  },
  {
   "cell_type": "code",
   "execution_count": null,
   "id": "2a2758b9",
   "metadata": {
    "papermill": {
     "duration": 3.243921,
     "end_time": "2025-07-04T12:02:17.764891",
     "exception": false,
     "start_time": "2025-07-04T12:02:14.520970",
     "status": "completed"
    },
    "tags": []
   },
   "outputs": [],
   "source": [
    "# Get class names\n",
    "class_names = test_ds.class_names if hasattr(test_ds, 'class_names') else [str(i) for i in range(62)]\n",
    "\n",
    "# Take one batch of images and labels\n",
    "for images, labels in test_ds.take(1):\n",
    "    preds = model.predict(images)\n",
    "\n",
    "    # Predicted class index\n",
    "    pred_classes = np.argmax(preds, axis=1)\n",
    "\n",
    "    # Convert true labels to integer indices if needed\n",
    "    if labels.ndim > 1:\n",
    "        true_classes = np.argmax(labels.numpy(), axis=1)\n",
    "    else:\n",
    "        true_classes = labels.numpy()\n",
    "\n",
    "    # Show 9 predictions with top-3 probability bars\n",
    "    plt.figure(figsize=(18, 18))\n",
    "    for i in range(9):\n",
    "        # -------- Image Plot --------\n",
    "        plt.subplot(9, 2, 2*i + 1)\n",
    "        plt.imshow(images[i].numpy().astype(\"uint8\"))\n",
    "        plt.axis('off')\n",
    "        plt.title(f\"Image {i+1}\\nTrue: {class_names[int(true_classes[i])]}\\nPred: {class_names[int(pred_classes[i])]}\")\n",
    "\n",
    "        # -------- Probability Bar Plot --------\n",
    "        top3_idx = np.argsort(preds[i])[-3:][::-1]  # Top 3 class indices\n",
    "        top3_probs = preds[i][top3_idx]\n",
    "        top3_labels = [class_names[j] for j in top3_idx]\n",
    "\n",
    "        plt.subplot(9, 2, 2*i + 2)\n",
    "        bars = plt.barh(top3_labels, top3_probs * 100, color='skyblue')\n",
    "        plt.xlim(0, 100)\n",
    "        plt.xlabel(\"Confidence (%)\")\n",
    "        plt.gca().invert_yaxis()  # Highest on top\n",
    "\n",
    "        for bar in bars:\n",
    "            width = bar.get_width()\n",
    "            plt.text(width + 1, bar.get_y() + bar.get_height()/2,\n",
    "                     f\"{width:.1f}%\", va='center')\n",
    "\n",
    "    plt.tight_layout()\n",
    "    plt.show()\n"
   ]
  },
  {
   "cell_type": "markdown",
   "id": "db72ce4d",
   "metadata": {
    "papermill": {
     "duration": 0.850575,
     "end_time": "2025-07-04T12:02:19.415898",
     "exception": false,
     "start_time": "2025-07-04T12:02:18.565323",
     "status": "completed"
    },
    "tags": []
   },
   "source": [
    "## Save the Model"
   ]
  },
  {
   "cell_type": "code",
   "execution_count": null,
   "id": "71efa0eb",
   "metadata": {
    "papermill": {
     "duration": 0.943708,
     "end_time": "2025-07-04T12:02:21.231093",
     "exception": false,
     "start_time": "2025-07-04T12:02:20.287385",
     "status": "completed"
    },
    "tags": []
   },
   "outputs": [],
   "source": [
    "model.save(\"handwritten_cnn_model_2.h5\")"
   ]
  },
  {
   "cell_type": "code",
   "execution_count": null,
   "id": "fc3212fc-58ee-459c-b0c2-fd4235eb356b",
   "metadata": {},
   "outputs": [],
   "source": []
  },
  {
   "cell_type": "code",
   "execution_count": null,
   "id": "eabdce50-00c9-459d-9a34-b97d3a776a45",
   "metadata": {},
   "outputs": [],
   "source": []
  }
 ],
 "metadata": {
  "kaggle": {
   "accelerator": "nvidiaTeslaT4",
   "dataSources": [
    {
     "datasetId": 5546450,
     "isSourceIdPinned": false,
     "sourceId": 9446545,
     "sourceType": "datasetVersion"
    }
   ],
   "dockerImageVersionId": 31040,
   "isGpuEnabled": true,
   "isInternetEnabled": true,
   "language": "python",
   "sourceType": "notebook"
  },
  "kernelspec": {
   "display_name": "base",
   "language": "python",
   "name": "python3"
  },
  "language_info": {
   "codemirror_mode": {
    "name": "ipython",
    "version": 3
   },
   "file_extension": ".py",
   "mimetype": "text/x-python",
   "name": "python",
   "nbconvert_exporter": "python",
   "pygments_lexer": "ipython3",
   "version": "3.11.5"
  },
  "papermill": {
   "default_parameters": {},
   "duration": 1654.274732,
   "end_time": "2025-07-04T12:02:25.365818",
   "environment_variables": {},
   "exception": null,
   "input_path": "__notebook__.ipynb",
   "output_path": "__notebook__.ipynb",
   "parameters": {},
   "start_time": "2025-07-04T11:34:51.091086",
   "version": "2.6.0"
  }
 },
 "nbformat": 4,
 "nbformat_minor": 5
}
