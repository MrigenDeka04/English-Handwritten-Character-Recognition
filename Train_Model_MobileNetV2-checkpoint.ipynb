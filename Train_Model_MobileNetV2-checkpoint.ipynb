{
 "cells": [
  {
   "cell_type": "markdown",
   "id": "e38e8d00",
   "metadata": {},
   "source": [
    "# Character Recognition Training Notebook\n",
    "This notebook trains a MobileNetV2 model on segregated folders (A-Z, a-z, 0-9).\n",
    "Each folder should contain images of one class."
   ]
  },
  {
   "cell_type": "code",
   "execution_count": 38,
   "id": "ab843664",
   "metadata": {},
   "outputs": [],
   "source": [
    "import tensorflow as tf\n",
    "from tensorflow.keras.preprocessing.image import ImageDataGenerator\n",
    "from tensorflow.keras.applications import MobileNetV2\n",
    "from tensorflow.keras.models import Model\n",
    "from tensorflow.keras.layers import Dense, GlobalAveragePooling2D, Dropout\n",
    "from tensorflow.keras.optimizers import Adam\n",
    "import os"
   ]
  },
  {
   "cell_type": "markdown",
   "id": "56aa3ef6",
   "metadata": {},
   "source": [
    "## Dataset & Model Paths (Change these as needed)"
   ]
  },
  {
   "cell_type": "code",
   "execution_count": 40,
   "id": "69a9ba3d-6b28-4d5c-8fcc-085ab9d7af90",
   "metadata": {},
   "outputs": [],
   "source": [
    "# pip install wrapt"
   ]
  },
  {
   "cell_type": "code",
   "execution_count": 41,
   "id": "c95e3d43",
   "metadata": {},
   "outputs": [],
   "source": [
    "DATASET_PATH = r'E:\\JEC Internship\\Dataset\\ALL chars'  # Change if needed\n",
    "MODEL_PATH = r'E:\\JEC Internship\\models\\character_model.h5'"
   ]
  },
  {
   "cell_type": "markdown",
   "id": "6707a6a3",
   "metadata": {},
   "source": [
    "## Data Generators with Augmentation"
   ]
  },
  {
   "cell_type": "code",
   "execution_count": 43,
   "id": "fa34a96c",
   "metadata": {},
   "outputs": [
    {
     "name": "stdout",
     "output_type": "stream",
     "text": [
      "Found 2728 images belonging to 62 classes.\n",
      "Found 682 images belonging to 62 classes.\n"
     ]
    }
   ],
   "source": [
    "train_datagen = ImageDataGenerator(\n",
    "    rescale=1./255,\n",
    "    rotation_range=15,\n",
    "    width_shift_range=0.1,\n",
    "    height_shift_range=0.1,\n",
    "    zoom_range=0.2,\n",
    "    validation_split=0.2\n",
    ")\n",
    "\n",
    "train_generator = train_datagen.flow_from_directory(\n",
    "    DATASET_PATH,\n",
    "    target_size=(64,64),\n",
    "    color_mode='grayscale',\n",
    "    batch_size=32,\n",
    "    class_mode='categorical',\n",
    "    subset='training'\n",
    ")\n",
    "\n",
    "val_generator = train_datagen.flow_from_directory(\n",
    "    DATASET_PATH,\n",
    "    target_size=(64,64),\n",
    "    color_mode='grayscale',\n",
    "    batch_size=32,\n",
    "    class_mode='categorical',\n",
    "    subset='validation'\n",
    ")"
   ]
  },
  {
   "cell_type": "markdown",
   "id": "f19e6ddd",
   "metadata": {},
   "source": [
    "## Model Creation (MobileNetV2 backbone)"
   ]
  },
  {
   "cell_type": "code",
   "execution_count": null,
   "id": "391da465",
   "metadata": {},
   "outputs": [],
   "source": [
    "base_model = MobileNetV2(weights=None, include_top=False, input_shape=(64,64,1))\n",
    "x = base_model.output\n",
    "x = GlobalAveragePooling2D()(x)\n",
    "x = Dropout(0.3)(x)\n",
    "preds = Dense(train_generator.num_classes, activation='softmax')(x)\n",
    "\n",
    "model = Model(inputs=base_model.input, outputs=preds)\n",
    "model.compile(optimizer=Adam(learning_rate=0.001), loss='categorical_crossentropy', metrics=['accuracy'])\n",
    "\n",
    "history = model.fit(train_generator, validation_data=val_generator, epochs=50)\n",
    "model.save(MODEL_PATH)"
   ]
  },
  {
   "cell_type": "code",
   "execution_count": null,
   "id": "433fc38a-57fd-496e-9429-0c946f38e376",
   "metadata": {},
   "outputs": [],
   "source": [
    "!pip uninstall h5py\n",
    "\n"
   ]
  },
  {
   "cell_type": "code",
   "execution_count": null,
   "id": "45e67203-5e59-436e-8d06-904f4f598158",
   "metadata": {},
   "outputs": [],
   "source": [
    "pip install --no-cache-dir h5py\n"
   ]
  },
  {
   "cell_type": "code",
   "execution_count": null,
   "id": "6e079723-56ad-47b8-87c0-965b4b1e11e0",
   "metadata": {},
   "outputs": [],
   "source": [
    "import h5py\n",
    "print(h5py)\n",
    "print(h5py.__file__)\n"
   ]
  },
  {
   "cell_type": "code",
   "execution_count": null,
   "id": "a76f7b67-5b2d-4ff3-9647-df94c325ce37",
   "metadata": {},
   "outputs": [],
   "source": []
  }
 ],
 "metadata": {
  "kernelspec": {
   "display_name": "Python 3 (ipykernel)",
   "language": "python",
   "name": "python3"
  },
  "language_info": {
   "codemirror_mode": {
    "name": "ipython",
    "version": 3
   },
   "file_extension": ".py",
   "mimetype": "text/x-python",
   "name": "python",
   "nbconvert_exporter": "python",
   "pygments_lexer": "ipython3",
   "version": "3.11.5"
  }
 },
 "nbformat": 4,
 "nbformat_minor": 5
}
